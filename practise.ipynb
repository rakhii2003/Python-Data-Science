{
 "cells": [
  {
   "cell_type": "markdown",
   "metadata": {},
   "source": [
    "1 - Write a program to print cube of 9 \n"
   ]
  },
  {
   "cell_type": "code",
   "execution_count": 1,
   "metadata": {},
   "outputs": [
    {
     "name": "stdout",
     "output_type": "stream",
     "text": [
      "cube of 9 is  729\n"
     ]
    }
   ],
   "source": [
    "num = 9\n",
    "cube = 9*9*9\n",
    "print(\"cube of 9 is \",cube)"
   ]
  },
  {
   "cell_type": "markdown",
   "metadata": {},
   "source": [
    "2 - Write a program to calculate the area of circle\n"
   ]
  },
  {
   "cell_type": "code",
   "execution_count": 6,
   "metadata": {},
   "outputs": [
    {
     "name": "stdout",
     "output_type": "stream",
     "text": [
      "Area of circle is 140.9546\n"
     ]
    }
   ],
   "source": [
    "r =float(input(\"Enter radius of circle\"))\n",
    "area = 3.14*r*r\n",
    "print(\"Area of circle is\",area)"
   ]
  },
  {
   "cell_type": "markdown",
   "metadata": {},
   "source": [
    "3 - Calculate thye gross salary of an employee when the basic salary is 80000 , HRA is 10% of basic salary and DA is 5% of basis salary"
   ]
  },
  {
   "cell_type": "code",
   "execution_count": 5,
   "metadata": {},
   "outputs": [
    {
     "name": "stdout",
     "output_type": "stream",
     "text": [
      "Gross Salary is 92000.0\n"
     ]
    }
   ],
   "source": [
    "salary = 80000\n",
    "hra = (10/100)*salary\n",
    "da = (5/100)*salary\n",
    "gross_salary = salary + hra + da \n",
    "print(\"Gross Salary is\",gross_salary)"
   ]
  },
  {
   "cell_type": "code",
   "execution_count": 1,
   "metadata": {},
   "outputs": [
    {
     "ename": "ModuleNotFoundError",
     "evalue": "No module named 'mediapipe'",
     "output_type": "error",
     "traceback": [
      "\u001b[1;31m---------------------------------------------------------------------------\u001b[0m",
      "\u001b[1;31mModuleNotFoundError\u001b[0m                       Traceback (most recent call last)",
      "Cell \u001b[1;32mIn[1], line 1\u001b[0m\n\u001b[1;32m----> 1\u001b[0m \u001b[38;5;28;01mimport\u001b[39;00m \u001b[38;5;21;01mmediapipe\u001b[39;00m \u001b[38;5;28;01mas\u001b[39;00m \u001b[38;5;21;01mmp\u001b[39;00m\n\u001b[0;32m      3\u001b[0m BaseOptions \u001b[38;5;241m=\u001b[39m mp\u001b[38;5;241m.\u001b[39mtasks\u001b[38;5;241m.\u001b[39mBaseOptions\n\u001b[0;32m      4\u001b[0m ImageClassifier \u001b[38;5;241m=\u001b[39m mp\u001b[38;5;241m.\u001b[39mtasks\u001b[38;5;241m.\u001b[39mvision\u001b[38;5;241m.\u001b[39mImageClassifier\n",
      "\u001b[1;31mModuleNotFoundError\u001b[0m: No module named 'mediapipe'"
     ]
    }
   ],
   "source": [
    "import mediapipe as mp\n",
    "\n",
    "BaseOptions = mp.tasks.BaseOptions\n",
    "ImageClassifier = mp.tasks.vision.ImageClassifier\n",
    "ImageClassifierOptions = mp.tasks.vision.ImageClassifierOptions\n",
    "VisionRunningMode = mp.tasks.vision.RunningMode\n",
    "\n",
    "options = ImageClassifierOptions(\n",
    "    base_options=BaseOptions(model_asset_path='/path/to/model.tflite'),\n",
    "    max_results=5,\n",
    "    running_mode=VisionRunningMode.IMAGE)\n"
   ]
  },
  {
   "cell_type": "code",
   "execution_count": null,
   "metadata": {},
   "outputs": [],
   "source": []
  }
 ],
 "metadata": {
  "kernelspec": {
   "display_name": "base",
   "language": "python",
   "name": "python3"
  },
  "language_info": {
   "codemirror_mode": {
    "name": "ipython",
    "version": 3
   },
   "file_extension": ".py",
   "mimetype": "text/x-python",
   "name": "python",
   "nbconvert_exporter": "python",
   "pygments_lexer": "ipython3",
   "version": "3.12.4"
  }
 },
 "nbformat": 4,
 "nbformat_minor": 2
}
