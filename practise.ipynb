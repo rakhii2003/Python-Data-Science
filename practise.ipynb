{
 "cells": [
  {
   "cell_type": "markdown",
   "metadata": {},
   "source": [
    "1 - Write a program to print cube of 9 \n"
   ]
  },
  {
   "cell_type": "code",
   "execution_count": 1,
   "metadata": {},
   "outputs": [
    {
     "name": "stdout",
     "output_type": "stream",
     "text": [
      "cube of 9 is  729\n"
     ]
    }
   ],
   "source": [
    "num = 9\n",
    "cube = 9*9*9\n",
    "print(\"cube of 9 is \",cube)"
   ]
  },
  {
   "cell_type": "markdown",
   "metadata": {},
   "source": [
    "2 - Write a program to calculate the area of circle\n"
   ]
  },
  {
   "cell_type": "code",
   "execution_count": 6,
   "metadata": {},
   "outputs": [
    {
     "name": "stdout",
     "output_type": "stream",
     "text": [
      "Area of circle is 140.9546\n"
     ]
    }
   ],
   "source": [
    "r =float(input(\"Enter radius of circle\"))\n",
    "area = 3.14*r*r\n",
    "print(\"Area of circle is\",area)"
   ]
  },
  {
   "cell_type": "markdown",
   "metadata": {},
   "source": [
    "3 - Calculate thye gross salary of an employee when the basic salary is 80000 , HRA is 10% of basic salary and DA is 5% of basis salary"
   ]
  },
  {
   "cell_type": "code",
   "execution_count": 5,
   "metadata": {},
   "outputs": [
    {
     "name": "stdout",
     "output_type": "stream",
     "text": [
      "Gross Salary is 92000.0\n"
     ]
    }
   ],
   "source": [
    "salary = 80000\n",
    "hra = (10/100)*salary\n",
    "da = (5/100)*salary\n",
    "gross_salary = salary + hra + da \n",
    "print(\"Gross Salary is\",gross_salary)"
   ]
  },
  {
   "cell_type": "code",
   "execution_count": null,
   "metadata": {},
   "outputs": [],
   "source": []
  }
 ],
 "metadata": {
  "kernelspec": {
   "display_name": "base",
   "language": "python",
   "name": "python3"
  },
  "language_info": {
   "codemirror_mode": {
    "name": "ipython",
    "version": 3
   },
   "file_extension": ".py",
   "mimetype": "text/x-python",
   "name": "python",
   "nbconvert_exporter": "python",
   "pygments_lexer": "ipython3",
   "version": "3.12.4"
  }
 },
 "nbformat": 4,
 "nbformat_minor": 2
}
