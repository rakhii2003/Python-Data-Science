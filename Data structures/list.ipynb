{
 "cells": [
  {
   "cell_type": "code",
   "execution_count": 39,
   "metadata": {},
   "outputs": [
    {
     "name": "stdout",
     "output_type": "stream",
     "text": [
      "['instagram', 'myntra', 'stepsetgo', 'snapchat', 'facebook', 'uber', 'photos', 'linkedin', 'zomato', 'chrome', 'alarm', 'notes', 'yonosbi']\n"
     ]
    }
   ],
   "source": [
    "apps = ['instagram','myntra','stepsetgo','snapchat','facebook','uber','photos','linkedin','zomato','chrome','alarm','notes','yonosbi']\n",
    "print(apps)"
   ]
  },
  {
   "cell_type": "code",
   "execution_count": 40,
   "metadata": {},
   "outputs": [
    {
     "name": "stdout",
     "output_type": "stream",
     "text": [
      "stepsetgo\n",
      "chrome\n",
      "notes\n"
     ]
    }
   ],
   "source": [
    "#indexing\n",
    "print(apps[2])\n",
    "print(apps[9])\n",
    "print(apps[-2])"
   ]
  },
  {
   "cell_type": "code",
   "execution_count": 41,
   "metadata": {},
   "outputs": [
    {
     "name": "stdout",
     "output_type": "stream",
     "text": [
      "['stepsetgo', 'snapchat', 'facebook', 'uber']\n",
      "['instagram', 'linkedin']\n",
      "['instagram', 'myntra', 'stepsetgo', 'snapchat', 'facebook', 'uber', 'photos', 'linkedin', 'zomato']\n",
      "['instagram', 'stepsetgo', 'facebook', 'photos']\n",
      "['instagram', 'myntra']\n",
      "['instagram', 'myntra', 'stepsetgo', 'snapchat', 'facebook', 'uber', 'photos', 'linkedin', 'zomato', 'chrome', 'alarm', 'notes', 'yonosbi']\n",
      "['myntra', 'alarm']\n"
     ]
    }
   ],
   "source": [
    "#slicing\n",
    "print(apps[2:6])\n",
    "print(apps[::7])\n",
    "print(apps[:9])\n",
    "print(apps[0:7:2])\n",
    "print(apps[:2:])\n",
    "print(apps[:])\n",
    "print(apps[1::9])"
   ]
  },
  {
   "cell_type": "markdown",
   "metadata": {},
   "source": [
    "LIST METHODS\n",
    "\n",
    "    - append()\n",
    "    - insert()\n",
    "    - pop()\n",
    "    - remove()\n",
    "    - sort()\n",
    "    - reverse()\n",
    "    - extend()\n",
    "    - copy()\n",
    "    - clear()\n",
    "    "
   ]
  },
  {
   "cell_type": "code",
   "execution_count": 42,
   "metadata": {},
   "outputs": [
    {
     "name": "stdout",
     "output_type": "stream",
     "text": [
      "['instagram', 'myntra', 'stepsetgo', 'snapchat', 'facebook', 'uber', 'photos', 'linkedin', 'zomato', 'chrome', 'alarm', 'notes', 'yonosbi']\n"
     ]
    }
   ],
   "source": [
    "print(apps)"
   ]
  },
  {
   "cell_type": "code",
   "execution_count": 43,
   "metadata": {},
   "outputs": [
    {
     "name": "stdout",
     "output_type": "stream",
     "text": [
      "['instagram', 'myntra', 'stepsetgo', 'snapchat', 'facebook', 'uber', 'photos', 'linkedin', 'zomato', 'chrome', 'alarm', 'notes', 'yonosbi', 'urbanic']\n"
     ]
    }
   ],
   "source": [
    "apps.append('urbanic')\n",
    "print(apps)"
   ]
  },
  {
   "cell_type": "code",
   "execution_count": 44,
   "metadata": {},
   "outputs": [
    {
     "name": "stdout",
     "output_type": "stream",
     "text": [
      "['instagram', 'myntra', 'stepsetgo', 'snapchat', 'facebook', 'uber', 'rapido', 'photos', 'linkedin', 'zomato', 'chrome', 'alarm', 'notes', 'yonosbi', 'urbanic']\n"
     ]
    }
   ],
   "source": [
    "apps.insert(6,'rapido')\n",
    "print(apps)"
   ]
  },
  {
   "cell_type": "code",
   "execution_count": 45,
   "metadata": {},
   "outputs": [
    {
     "name": "stdout",
     "output_type": "stream",
     "text": [
      "['instagram', 'myntra', 'stepsetgo', 'snapchat', 'facebook', 'uber', 'photos', 'linkedin', 'zomato', 'chrome', 'alarm', 'notes', 'yonosbi', 'urbanic']\n"
     ]
    }
   ],
   "source": [
    "apps.remove('rapido')\n",
    "print(apps)"
   ]
  },
  {
   "cell_type": "code",
   "execution_count": 46,
   "metadata": {},
   "outputs": [
    {
     "name": "stdout",
     "output_type": "stream",
     "text": [
      "['instagram', 'myntra', 'stepsetgo', 'snapchat', 'facebook', 'uber', 'linkedin', 'zomato', 'chrome', 'alarm', 'notes', 'yonosbi', 'urbanic']\n"
     ]
    }
   ],
   "source": [
    "apps.pop(6)\n",
    "print(apps)"
   ]
  },
  {
   "cell_type": "code",
   "execution_count": 47,
   "metadata": {},
   "outputs": [
    {
     "name": "stdout",
     "output_type": "stream",
     "text": [
      "['alarm', 'chrome', 'facebook', 'instagram', 'linkedin', 'myntra', 'notes', 'snapchat', 'stepsetgo', 'uber', 'urbanic', 'yonosbi', 'zomato']\n"
     ]
    }
   ],
   "source": [
    "apps.sort()\n",
    "print(apps)"
   ]
  },
  {
   "cell_type": "code",
   "execution_count": 48,
   "metadata": {},
   "outputs": [
    {
     "name": "stdout",
     "output_type": "stream",
     "text": [
      "['zomato', 'yonosbi', 'urbanic', 'uber', 'stepsetgo', 'snapchat', 'notes', 'myntra', 'linkedin', 'instagram', 'facebook', 'chrome', 'alarm']\n"
     ]
    }
   ],
   "source": [
    "apps.reverse()\n",
    "print(apps)"
   ]
  },
  {
   "cell_type": "code",
   "execution_count": 49,
   "metadata": {},
   "outputs": [
    {
     "name": "stdout",
     "output_type": "stream",
     "text": [
      "['telegram', 'twitter', 'maps', 'youtube']\n"
     ]
    }
   ],
   "source": [
    "apps2 = ['telegram','twitter','maps','youtube']\n",
    "print(apps2)"
   ]
  },
  {
   "cell_type": "code",
   "execution_count": 50,
   "metadata": {},
   "outputs": [
    {
     "name": "stdout",
     "output_type": "stream",
     "text": [
      "['zomato', 'yonosbi', 'urbanic', 'uber', 'stepsetgo', 'snapchat', 'notes', 'myntra', 'linkedin', 'instagram', 'facebook', 'chrome', 'alarm', 'telegram', 'twitter', 'maps', 'youtube']\n"
     ]
    }
   ],
   "source": [
    "apps.extend(apps2)\n",
    "print(apps)"
   ]
  },
  {
   "cell_type": "code",
   "execution_count": 51,
   "metadata": {},
   "outputs": [
    {
     "name": "stdout",
     "output_type": "stream",
     "text": [
      "['telegram', 'twitter', 'maps', 'youtube', 'zomato', 'yonosbi', 'urbanic', 'uber', 'stepsetgo', 'snapchat', 'notes', 'myntra', 'linkedin', 'instagram', 'facebook', 'chrome', 'alarm', 'telegram', 'twitter', 'maps', 'youtube']\n"
     ]
    }
   ],
   "source": [
    "apps2.extend(apps)\n",
    "print(apps2)"
   ]
  },
  {
   "cell_type": "code",
   "execution_count": 52,
   "metadata": {},
   "outputs": [
    {
     "name": "stdout",
     "output_type": "stream",
     "text": [
      "['zomato', 'yonosbi', 'urbanic', 'uber', 'stepsetgo', 'snapchat', 'notes', 'myntra', 'linkedin', 'instagram', 'facebook', 'chrome', 'alarm', 'telegram', 'twitter', 'maps', 'youtube']\n"
     ]
    }
   ],
   "source": [
    "b = apps.copy()\n",
    "print(b)"
   ]
  },
  {
   "cell_type": "code",
   "execution_count": 53,
   "metadata": {},
   "outputs": [
    {
     "name": "stdout",
     "output_type": "stream",
     "text": [
      "[]\n"
     ]
    }
   ],
   "source": [
    "apps.clear()\n",
    "print(apps)"
   ]
  },
  {
   "cell_type": "code",
   "execution_count": 54,
   "metadata": {},
   "outputs": [
    {
     "name": "stdout",
     "output_type": "stream",
     "text": [
      "['zomato', 'yonosbi', 'urbanic', 'uber', 'stepsetgo', 'snapchat', 'notes', 'myntra', 'linkedin', 'instagram', 'facebook', 'chrome', 'alarm', 'telegram', 'twitter', 'maps', 'youtube']\n"
     ]
    }
   ],
   "source": [
    "print(b)"
   ]
  },
  {
   "cell_type": "markdown",
   "metadata": {},
   "source": [
    "LIST COMPREHENSION"
   ]
  },
  {
   "cell_type": "code",
   "execution_count": 1,
   "metadata": {},
   "outputs": [
    {
     "name": "stdout",
     "output_type": "stream",
     "text": [
      "[1, 4, 9, 16, 25, 36, 49, 64, 81, 100]\n"
     ]
    }
   ],
   "source": [
    "lst = [1,2,3,4,5,6,7,8,9,10]\n",
    "new_lst = []\n",
    "for i in lst:\n",
    "    new_lst.append(i**2)\n",
    "print(new_lst)"
   ]
  },
  {
   "cell_type": "code",
   "execution_count": 2,
   "metadata": {},
   "outputs": [
    {
     "name": "stdout",
     "output_type": "stream",
     "text": [
      "[1, 2, 3, 4, 5, 6, 7, 8, 9, 10]\n"
     ]
    }
   ],
   "source": [
    "print(lst)"
   ]
  },
  {
   "cell_type": "code",
   "execution_count": 3,
   "metadata": {},
   "outputs": [
    {
     "name": "stdout",
     "output_type": "stream",
     "text": [
      "[1, 4, 9, 16, 25, 36, 49, 64, 81, 100]\n"
     ]
    }
   ],
   "source": [
    "lst = [1,2,3,4,5,6,7,8,9,10]\n",
    "square = [i**2 for i in lst]\n",
    "print(square)"
   ]
  },
  {
   "cell_type": "code",
   "execution_count": 5,
   "metadata": {},
   "outputs": [
    {
     "name": "stdout",
     "output_type": "stream",
     "text": [
      "[2, 4, 6, 8, 10, 12, 14, 16, 18]\n"
     ]
    }
   ],
   "source": [
    "num = [2,4,3,5,6,7,8,9,10,11,12,13,14,15,16,17,18]\n",
    "even_num = [i for i in num if i%2 ==0]\n",
    "print(even_num)"
   ]
  },
  {
   "cell_type": "code",
   "execution_count": 11,
   "metadata": {},
   "outputs": [
    {
     "name": "stdout",
     "output_type": "stream",
     "text": [
      "['kiwi', 'mango', 'banana', 'apple']\n"
     ]
    }
   ],
   "source": [
    "lst = ['kiwi','mango','banana','apple','pomegranate','avocado','jackfruit']\n",
    "new_lst = [i for i in lst if len(i) <=6]\n",
    "print(new_lst)"
   ]
  },
  {
   "cell_type": "code",
   "execution_count": 12,
   "metadata": {},
   "outputs": [
    {
     "name": "stdout",
     "output_type": "stream",
     "text": [
      "['KIWI', 'MANGO', 'BANANA', 'APPLE', 'POMEGRANATE', 'AVOCADO', 'JACKFRUIT']\n"
     ]
    }
   ],
   "source": [
    "lst2 = [i.upper() for i in lst]\n",
    "print(lst2)"
   ]
  },
  {
   "cell_type": "code",
   "execution_count": 13,
   "metadata": {},
   "outputs": [
    {
     "name": "stdout",
     "output_type": "stream",
     "text": [
      "['mango', 'banana', 'apple', 'pomegranate', 'avocado', 'jackfruit']\n"
     ]
    }
   ],
   "source": [
    "lst = [i for i in lst if 'a' in i]\n",
    "print(lst)"
   ]
  }
 ],
 "metadata": {
  "kernelspec": {
   "display_name": "base",
   "language": "python",
   "name": "python3"
  },
  "language_info": {
   "codemirror_mode": {
    "name": "ipython",
    "version": 3
   },
   "file_extension": ".py",
   "mimetype": "text/x-python",
   "name": "python",
   "nbconvert_exporter": "python",
   "pygments_lexer": "ipython3",
   "version": "3.12.4"
  }
 },
 "nbformat": 4,
 "nbformat_minor": 2
}
