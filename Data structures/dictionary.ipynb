{
 "cells": [
  {
   "cell_type": "markdown",
   "metadata": {},
   "source": [
    "DICTIONARY\n",
    " - how declare it\n",
    " - how to access key and values of a dictionary\n",
    " - how to use loops in dictionary\n",
    " - indexing in dictionary "
   ]
  },
  {
   "cell_type": "code",
   "execution_count": 2,
   "metadata": {},
   "outputs": [
    {
     "name": "stdout",
     "output_type": "stream",
     "text": [
      "{'name': 'Rakhi', 'class': 'Physics', 'roll_no': 12, 'age': 18, 'marks': 70}\n"
     ]
    }
   ],
   "source": [
    "student = {\n",
    "    \"name\": \"Rakhi\",\n",
    "    \"class\": \"Physics\",\n",
    "    \"roll_no\": 12,\n",
    "    \"age\": 18,\n",
    "    \"marks\":70\n",
    "}\n",
    "print(student)\n"
   ]
  },
  {
   "cell_type": "code",
   "execution_count": 4,
   "metadata": {},
   "outputs": [
    {
     "name": "stdout",
     "output_type": "stream",
     "text": [
      "{'lucknow': [25, 30, 35], 'delhi': [30, 35, 40], 'mumbai': [35, 40, 45]}\n"
     ]
    }
   ],
   "source": [
    "temp = {\n",
    "    'lucknow' : [25,30,35],\n",
    "    'delhi' : [30,35,40],\n",
    "    'mumbai' : [35,40,45]\n",
    "}\n",
    "print(temp)"
   ]
  },
  {
   "cell_type": "code",
   "execution_count": 5,
   "metadata": {},
   "outputs": [
    {
     "name": "stdout",
     "output_type": "stream",
     "text": [
      "{'name': 'John', 'age': 22, 'city': 'New york'}\n"
     ]
    }
   ],
   "source": [
    "info = dict(name = 'John', age = 22, city = 'New york')\n",
    "print(info)"
   ]
  },
  {
   "cell_type": "code",
   "execution_count": 8,
   "metadata": {},
   "outputs": [
    {
     "name": "stdout",
     "output_type": "stream",
     "text": [
      "{'name': 'John', 'age': 22, 'city': 'new york'}\n"
     ]
    }
   ],
   "source": [
    "info2 = dict([('name','John'),('age',22),('city','new york')])\n",
    "print(info2)"
   ]
  },
  {
   "cell_type": "code",
   "execution_count": 10,
   "metadata": {},
   "outputs": [
    {
     "name": "stdout",
     "output_type": "stream",
     "text": [
      "{'name': 'Shreya', 'age': 17, 'city': 'delhi'}\n"
     ]
    }
   ],
   "source": [
    "info3 = dict(name = input(\"Enter your name\"), age = int(input(\"Enter your age\")), city = input(\"Enter your city\"))\n",
    "print(info3)"
   ]
  },
  {
   "cell_type": "code",
   "execution_count": null,
   "metadata": {},
   "outputs": [],
   "source": []
  }
 ],
 "metadata": {
  "kernelspec": {
   "display_name": "base",
   "language": "python",
   "name": "python3"
  },
  "language_info": {
   "codemirror_mode": {
    "name": "ipython",
    "version": 3
   },
   "file_extension": ".py",
   "mimetype": "text/x-python",
   "name": "python",
   "nbconvert_exporter": "python",
   "pygments_lexer": "ipython3",
   "version": "3.12.4"
  }
 },
 "nbformat": 4,
 "nbformat_minor": 2
}
