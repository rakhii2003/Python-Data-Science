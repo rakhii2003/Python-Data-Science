{
 "cells": [
  {
   "cell_type": "code",
   "execution_count": 59,
   "metadata": {},
   "outputs": [],
   "source": [
    "#non parameterized function\n",
    "def my_func():\n",
    "    print(\"Hello from my_func\")"
   ]
  },
  {
   "cell_type": "code",
   "execution_count": 60,
   "metadata": {},
   "outputs": [
    {
     "name": "stdout",
     "output_type": "stream",
     "text": [
      "Hello from my_func\n"
     ]
    }
   ],
   "source": [
    "#function calling \n",
    "my_func()"
   ]
  },
  {
   "cell_type": "code",
   "execution_count": 61,
   "metadata": {},
   "outputs": [
    {
     "name": "stdout",
     "output_type": "stream",
     "text": [
      "Hello John\n"
     ]
    }
   ],
   "source": [
    "#parameterized function \n",
    "def name(name):#name is a parameter \n",
    "    print(\"Hello \" +name)\n",
    "\n",
    "name(\"John\")#john is an argument"
   ]
  },
  {
   "cell_type": "code",
   "execution_count": 62,
   "metadata": {},
   "outputs": [
    {
     "name": "stdout",
     "output_type": "stream",
     "text": [
      "Hello John\n",
      "None\n"
     ]
    }
   ],
   "source": [
    "a =  name(\"John\")\n",
    "print(a)"
   ]
  },
  {
   "cell_type": "code",
   "execution_count": 63,
   "metadata": {},
   "outputs": [
    {
     "data": {
      "text/plain": [
       "15"
      ]
     },
     "execution_count": 63,
     "metadata": {},
     "output_type": "execute_result"
    }
   ],
   "source": [
    "def func(x):\n",
    "    return 5*x\n",
    "func(3)"
   ]
  },
  {
   "cell_type": "code",
   "execution_count": 64,
   "metadata": {},
   "outputs": [
    {
     "name": "stdout",
     "output_type": "stream",
     "text": [
      "15\n"
     ]
    }
   ],
   "source": [
    "a = func(3)\n",
    "print(a)"
   ]
  },
  {
   "cell_type": "code",
   "execution_count": 65,
   "metadata": {},
   "outputs": [
    {
     "name": "stdout",
     "output_type": "stream",
     "text": [
      "I am from USA\n",
      "I am from UK\n",
      "I am from India\n",
      "I am from Canada\n"
     ]
    }
   ],
   "source": [
    "#default parameterized function\n",
    "def my_country(country = \"India\"):\n",
    "    print(\"I am from \"+ country)\n",
    "\n",
    "my_country(\"USA\")\n",
    "my_country(\"UK\")\n",
    "my_country()\n",
    "my_country(\"Canada\")\n"
   ]
  },
  {
   "cell_type": "code",
   "execution_count": 66,
   "metadata": {},
   "outputs": [
    {
     "name": "stdout",
     "output_type": "stream",
     "text": [
      "apple\n",
      "banana\n",
      "cherry\n"
     ]
    }
   ],
   "source": [
    "def fruits(fruit):\n",
    "    for x in fruit:\n",
    "        print(x)\n",
    "\n",
    "fruits([\"apple\",\"banana\",\"cherry\"])"
   ]
  },
  {
   "cell_type": "code",
   "execution_count": 95,
   "metadata": {},
   "outputs": [
    {
     "name": "stdout",
     "output_type": "stream",
     "text": [
      "odd\n"
     ]
    }
   ],
   "source": [
    "def even_odd(num):\n",
    "     if num%2 == 0:\n",
    "        print(\"even\")\n",
    "     else:\n",
    "        print(\"odd\")\n",
    "even_odd(35)\n"
   ]
  },
  {
   "cell_type": "code",
   "execution_count": 68,
   "metadata": {},
   "outputs": [
    {
     "data": {
      "text/plain": [
       "5"
      ]
     },
     "execution_count": 68,
     "metadata": {},
     "output_type": "execute_result"
    }
   ],
   "source": [
    "def sum(a,b):\n",
    "    return a+b\n",
    "sum(2,3)"
   ]
  },
  {
   "cell_type": "code",
   "execution_count": 69,
   "metadata": {},
   "outputs": [
    {
     "name": "stdout",
     "output_type": "stream",
     "text": [
      "5\n"
     ]
    }
   ],
   "source": [
    "#lambda function\n",
    "add = lambda a,b : a+b\n",
    "print(add(2,3))"
   ]
  },
  {
   "cell_type": "code",
   "execution_count": 70,
   "metadata": {},
   "outputs": [
    {
     "name": "stdout",
     "output_type": "stream",
     "text": [
      "True\n"
     ]
    }
   ],
   "source": [
    "#even odd using lambda\n",
    "even = lambda a : a%2 == 0\n",
    "print(even(2))"
   ]
  },
  {
   "cell_type": "code",
   "execution_count": 71,
   "metadata": {},
   "outputs": [
    {
     "data": {
      "text/plain": [
       "('WELCOME ', 'TO', 'DIGIPODIUM')"
      ]
     },
     "execution_count": 71,
     "metadata": {},
     "output_type": "execute_result"
    }
   ],
   "source": [
    "def myFunc():\n",
    "    return \"WELCOME \",\"TO\",\"DIGIPODIUM\"\n",
    "myFunc()"
   ]
  },
  {
   "cell_type": "code",
   "execution_count": 72,
   "metadata": {},
   "outputs": [
    {
     "name": "stdout",
     "output_type": "stream",
     "text": [
      "WELCOME \n",
      "TO\n",
      "DIGIPODIUM\n"
     ]
    }
   ],
   "source": [
    "a, b, c  = myFunc()\n",
    "print(a)\n",
    "print(b)\n",
    "print(c)"
   ]
  },
  {
   "cell_type": "markdown",
   "metadata": {},
   "source": [
    "- Check a number is prime or not \n",
    "- Convert temperature celcius to fahrenheit\n",
    "- Find maximum of three numbers \n",
    "- Calculate Factorial\n",
    "- Reverse of a string\n",
    "- Count vowels in a string\n",
    "- Calculate BMI(Body mass index)\n"
   ]
  },
  {
   "cell_type": "code",
   "execution_count": 125,
   "metadata": {},
   "outputs": [
    {
     "data": {
      "text/plain": [
       "True"
      ]
     },
     "execution_count": 125,
     "metadata": {},
     "output_type": "execute_result"
    }
   ],
   "source": [
    "def prime(num):\n",
    "        for i in range(2, int(num**0.5)+1):\n",
    "            if num%i == 0:\n",
    "                return False\n",
    "                break\n",
    "        return True\n",
    "prime(17)"
   ]
  },
  {
   "cell_type": "code",
   "execution_count": 135,
   "metadata": {},
   "outputs": [
    {
     "data": {
      "text/plain": [
       "89.6"
      ]
     },
     "execution_count": 135,
     "metadata": {},
     "output_type": "execute_result"
    }
   ],
   "source": [
    "def convertTemp(cel):\n",
    "    f = (cel * 1.8) + 32\n",
    "    return f \n",
    "convertTemp(32)"
   ]
  },
  {
   "cell_type": "code",
   "execution_count": 139,
   "metadata": {},
   "outputs": [
    {
     "name": "stdout",
     "output_type": "stream",
     "text": [
      "Maximum number : 19\n"
     ]
    }
   ],
   "source": [
    "#using lambda with max() function\n",
    "find_max = lambda a, b, c : max(a, b, c)\n",
    "result = find_max(10,5,19)\n",
    "print(\"Maximum number :\", result)"
   ]
  },
  {
   "cell_type": "code",
   "execution_count": 143,
   "metadata": {},
   "outputs": [
    {
     "data": {
      "text/plain": [
       "39916800"
      ]
     },
     "execution_count": 143,
     "metadata": {},
     "output_type": "execute_result"
    }
   ],
   "source": [
    "def fac(n):\n",
    "    if( n == 1 or n == 0):\n",
    "        return 1\n",
    "    else:\n",
    "        return(n*fac(n-1))\n",
    "fac(11)"
   ]
  },
  {
   "cell_type": "code",
   "execution_count": 147,
   "metadata": {},
   "outputs": [
    {
     "data": {
      "text/plain": [
       "'hgniS ihkaR'"
      ]
     },
     "execution_count": 147,
     "metadata": {},
     "output_type": "execute_result"
    }
   ],
   "source": [
    "def reverse(st):\n",
    "    if len(st) == 0:\n",
    "        return st\n",
    "    else:\n",
    "        return reverse(st[1:]) + st[0]\n",
    "reverse(\"Rakhi Singh\")"
   ]
  },
  {
   "cell_type": "code",
   "execution_count": null,
   "metadata": {},
   "outputs": [],
   "source": []
  },
  {
   "cell_type": "markdown",
   "metadata": {},
   "source": [
    "- BUILT IN FUNCTIONS"
   ]
  },
  {
   "cell_type": "code",
   "execution_count": 74,
   "metadata": {},
   "outputs": [],
   "source": [
    "import math"
   ]
  },
  {
   "cell_type": "code",
   "execution_count": 75,
   "metadata": {},
   "outputs": [
    {
     "name": "stdout",
     "output_type": "stream",
     "text": [
      "4.0\n",
      "8.0\n",
      "3.141592653589793\n",
      "12\n",
      "0.8939966636005579\n",
      "-0.4480736161291701\n",
      "24\n",
      "3628800\n"
     ]
    }
   ],
   "source": [
    "print(math.sqrt(16))\n",
    "print(math.pow(2,3))\n",
    "print(math.pi)\n",
    "print(math.gcd(12,24))\n",
    "print(math.sin(90))\n",
    "print(math.cos(90))\n",
    "print(math.lcm(12,24))\n",
    "print(math.factorial(10))"
   ]
  },
  {
   "cell_type": "code",
   "execution_count": 76,
   "metadata": {},
   "outputs": [],
   "source": [
    "from random import random, randint, choice, shuffle"
   ]
  },
  {
   "cell_type": "code",
   "execution_count": 77,
   "metadata": {},
   "outputs": [
    {
     "name": "stdout",
     "output_type": "stream",
     "text": [
      "get a random number between 0 and 10 : 0.9766331229259495\n",
      "get a random number between 0 ad 5 : 4\n",
      "get a random element from a list : 1\n",
      "shuffle a list : ['Smith', 'Bob', 'Alice', 'John']\n"
     ]
    }
   ],
   "source": [
    "print('get a random number between 0 and 10 :', random())\n",
    "print('get a random number between 0 ad 5 :', randint(0,5))\n",
    "print('get a random element from a list :', choice([1,2,3,4,5]))\n",
    "names = ['John', 'Smith', 'Bob', 'Alice']\n",
    "shuffle(names)\n",
    "print('shuffle a list :',names)"
   ]
  },
  {
   "cell_type": "code",
   "execution_count": 78,
   "metadata": {},
   "outputs": [],
   "source": [
    "from datetime import datetime as dt"
   ]
  },
  {
   "cell_type": "code",
   "execution_count": 79,
   "metadata": {},
   "outputs": [
    {
     "name": "stdout",
     "output_type": "stream",
     "text": [
      "Current Date and Time :  2024-09-08 20:54:32.615533\n",
      "Current Date :  2024-09-08\n",
      "Current Time :  20:54:32.615533\n"
     ]
    }
   ],
   "source": [
    "print('Current Date and Time : ', dt.now())\n",
    "print('Current Date : ', dt.now().date())\n",
    "print('Current Time : ', dt.now().time())      "
   ]
  },
  {
   "cell_type": "code",
   "execution_count": 80,
   "metadata": {},
   "outputs": [
    {
     "name": "stdout",
     "output_type": "stream",
     "text": [
      "Current Year : 2024\n",
      "Current Month : 9\n",
      "Current Day : 8\n",
      "Current Hour : 20\n",
      "Current Minute : 54\n",
      "Current Second : 32\n",
      "Current Microsecond : 623143\n",
      "Current Weekday : 6\n"
     ]
    }
   ],
   "source": [
    "print('Current Year :', dt.now().year)\n",
    "print('Current Month :', dt.now().month)\n",
    "print('Current Day :', dt.now().day)\n",
    "print('Current Hour :', dt.now().hour)\n",
    "print('Current Minute :', dt.now().minute)\n",
    "print('Current Second :', dt.now().second)\n",
    "print('Current Microsecond :', dt.now().microsecond)\n",
    "print('Current Weekday :', dt.now().weekday())"
   ]
  },
  {
   "cell_type": "code",
   "execution_count": 81,
   "metadata": {},
   "outputs": [
    {
     "name": "stdout",
     "output_type": "stream",
     "text": [
      "Current date : 08-09-24\n"
     ]
    }
   ],
   "source": [
    "date = dt.strftime(dt.now(), '%d-%m-%y')\n",
    "print('Current date :', date)"
   ]
  },
  {
   "cell_type": "code",
   "execution_count": 82,
   "metadata": {},
   "outputs": [
    {
     "name": "stdout",
     "output_type": "stream",
     "text": [
      "Current Time :  20:54:32\n"
     ]
    }
   ],
   "source": [
    "time = dt.strftime(dt.now(), '%H:%M:%S')\n",
    "print('Current Time : ', time)"
   ]
  },
  {
   "cell_type": "code",
   "execution_count": 83,
   "metadata": {},
   "outputs": [],
   "source": [
    "#know about folders, files and directories\n",
    "import os"
   ]
  },
  {
   "cell_type": "code",
   "execution_count": 84,
   "metadata": {},
   "outputs": [
    {
     "name": "stdout",
     "output_type": "stream",
     "text": [
      "Current Folder :  c:\\Users\\Rakhi\\Documents\\Data Science DIGIPODIUM\n"
     ]
    }
   ],
   "source": [
    "print('Current Folder : ', os.getcwd())"
   ]
  },
  {
   "cell_type": "code",
   "execution_count": 85,
   "metadata": {},
   "outputs": [
    {
     "name": "stdout",
     "output_type": "stream",
     "text": [
      "Files and Folders in current directory :  ['.git', 'Basics.ipynb', 'Basics.py', 'conditions.ipynb', 'Data structures', 'function.ipynb', 'loops.ipynb', 'practise.ipynb', 'variables.ipynb']\n",
      "9\n"
     ]
    }
   ],
   "source": [
    "files = os.listdir() #list all files and folders in current directory \n",
    "print('Files and Folders in current directory : ', files)\n",
    "print(len(files))"
   ]
  },
  {
   "cell_type": "code",
   "execution_count": 86,
   "metadata": {},
   "outputs": [
    {
     "name": "stdout",
     "output_type": "stream",
     "text": [
      "Files and Folders in Sentiment Analysis :  ['.git', 'app.py', 'templates']\n",
      "3\n"
     ]
    }
   ],
   "source": [
    "file = os.listdir(r\"C:\\Users\\Rakhi\\Documents\\Sentiment Analysis\")\n",
    "print('Files and Folders in Sentiment Analysis : ', file)\n",
    "print(len(file))"
   ]
  },
  {
   "cell_type": "code",
   "execution_count": 87,
   "metadata": {},
   "outputs": [
    {
     "data": {
      "text/plain": [
       "<generator object walk at 0x0000029D0F38DFE0>"
      ]
     },
     "execution_count": 87,
     "metadata": {},
     "output_type": "execute_result"
    }
   ],
   "source": [
    "os.walk('C:')"
   ]
  },
  {
   "cell_type": "code",
   "execution_count": 88,
   "metadata": {},
   "outputs": [
    {
     "name": "stdout",
     "output_type": "stream",
     "text": [
      "=> C:\n",
      "📁  ['.git', 'Data structures']\n",
      "🗒️ ['Basics.ipynb', 'Basics.py', 'conditions.ipynb', 'function.ipynb', 'loops.ipynb', 'practise.ipynb', 'variables.ipynb']\n",
      "=> C:.git\n",
      "📁  ['hooks', 'info', 'logs', 'objects', 'refs']\n",
      "🗒️ ['COMMIT_EDITMSG', 'config', 'description', 'HEAD', 'index']\n",
      "=> C:.git\\hooks\n",
      "📁  []\n",
      "🗒️ ['applypatch-msg.sample', 'commit-msg.sample', 'fsmonitor-watchman.sample', 'post-update.sample', 'pre-applypatch.sample', 'pre-commit.sample', 'pre-merge-commit.sample', 'pre-push.sample', 'pre-rebase.sample', 'pre-receive.sample', 'prepare-commit-msg.sample', 'push-to-checkout.sample', 'sendemail-validate.sample', 'update.sample']\n",
      "=> C:.git\\info\n",
      "📁  []\n",
      "🗒️ ['exclude']\n",
      "=> C:.git\\logs\n",
      "📁  ['refs']\n",
      "🗒️ ['HEAD']\n",
      "=> C:.git\\logs\\refs\n",
      "📁  ['heads', 'remotes']\n",
      "🗒️ []\n",
      "=> C:.git\\logs\\refs\\heads\n",
      "📁  []\n",
      "🗒️ ['main']\n",
      "=> C:.git\\logs\\refs\\remotes\n",
      "📁  ['origin']\n",
      "🗒️ []\n",
      "=> C:.git\\logs\\refs\\remotes\\origin\n",
      "📁  []\n",
      "🗒️ ['main']\n",
      "=> C:.git\\objects\n",
      "📁  ['00', '07', '09', '0b', '1d', '21', '24', '35', '38', '3d', '40', '41', '43', '45', '4b', '63', '6c', '6d', '6f', '7d', '93', '96', '9b', '9f', 'aa', 'b0', 'b1', 'b8', 'cd', 'd3', 'dc', 'df', 'e6', 'f0', 'f2', 'ff', 'info', 'pack']\n",
      "🗒️ []\n",
      "=> C:.git\\objects\\00\n",
      "📁  []\n",
      "🗒️ ['6a47323189de61629dffb1f57730d1b3661b3e']\n",
      "=> C:.git\\objects\\07\n",
      "📁  []\n",
      "🗒️ ['0ae4f20af1358236b51cf9ddba3bb58ea3b117', 'f0531ccc6ffcd5734f27d91deeca074a57c87f']\n",
      "=> C:.git\\objects\\09\n",
      "📁  []\n",
      "🗒️ ['f8392c3160f62c509c287980d5292d6ac6155f']\n",
      "=> C:.git\\objects\\0b\n",
      "📁  []\n",
      "🗒️ ['ffee9d07a8979c57728ecd84ef6d075e5027d3']\n",
      "=> C:.git\\objects\\1d\n",
      "📁  []\n",
      "🗒️ ['b6252a3220d75e49be0ed1ac1d996374875310']\n",
      "=> C:.git\\objects\\21\n",
      "📁  []\n",
      "🗒️ ['0ea39659adc595b0ebe1b6b374414b4923ce68']\n",
      "=> C:.git\\objects\\24\n",
      "📁  []\n",
      "🗒️ ['58725ff18485c132d48ea3ab4ec35ab966ee18']\n",
      "=> C:.git\\objects\\35\n",
      "📁  []\n",
      "🗒️ ['b9428a25d4ea4722ef1e4b98d5223996f45e5b']\n",
      "=> C:.git\\objects\\38\n",
      "📁  []\n",
      "🗒️ ['746c1031d2d562e09cfe4197bcd198b08c15b6']\n",
      "=> C:.git\\objects\\3d\n",
      "📁  []\n",
      "🗒️ ['de8d56fc80e5f9f1308d44ff619aa367091177']\n",
      "=> C:.git\\objects\\40\n",
      "📁  []\n",
      "🗒️ ['c2e16c4c9c741757261f8c15a23ff022b71b4f']\n",
      "=> C:.git\\objects\\41\n",
      "📁  []\n",
      "🗒️ ['8c14226b441cf74c9e3bda33c68dbcef5924c7']\n",
      "=> C:.git\\objects\\43\n",
      "📁  []\n",
      "🗒️ ['5399e343aecebf851b6a1e98585e256d603df8']\n",
      "=> C:.git\\objects\\45\n",
      "📁  []\n",
      "🗒️ ['5b20578afdcda4edcbfc8614361fe6a66a3ba9']\n",
      "=> C:.git\\objects\\4b\n",
      "📁  []\n",
      "🗒️ ['bd28d6c86bfad8dd8097159b65d46b23587bc7']\n",
      "=> C:.git\\objects\\63\n",
      "📁  []\n",
      "🗒️ ['319f3a8d8342b8efc65369fce2c590199e97c0']\n",
      "=> C:.git\\objects\\6c\n",
      "📁  []\n",
      "🗒️ ['4b86684ac04a93515ff02968340820bb071e08']\n",
      "=> C:.git\\objects\\6d\n",
      "📁  []\n",
      "🗒️ ['fef17f4d5c20ffadb037006c34a48cf639607c']\n",
      "=> C:.git\\objects\\6f\n",
      "📁  []\n",
      "🗒️ ['f4e38604eaf046828cfb2b826eade6835721c3']\n",
      "=> C:.git\\objects\\7d\n",
      "📁  []\n",
      "🗒️ ['62f115aa60b20f745131693bdf463e08e49748']\n",
      "=> C:.git\\objects\\93\n",
      "📁  []\n",
      "🗒️ ['31a308c8a8e11e9b22d13afc494c7d6d675a60']\n",
      "=> C:.git\\objects\\96\n",
      "📁  []\n",
      "🗒️ ['5732feb3b364757a16bb3651f07081c527762d']\n",
      "=> C:.git\\objects\\9b\n",
      "📁  []\n",
      "🗒️ ['c3fb6191227b72e337430d01f8930dfb35fae7']\n",
      "=> C:.git\\objects\\9f\n",
      "📁  []\n",
      "🗒️ ['ea586b487fe230ff9e0d24a6b57f72df0584ab']\n",
      "=> C:.git\\objects\\aa\n",
      "📁  []\n",
      "🗒️ ['1b1a15c42a7677f8f8f4ae8f1c64485f621c52']\n",
      "=> C:.git\\objects\\b0\n",
      "📁  []\n",
      "🗒️ ['c9d0491ba8eaa106ffe3ca804d6f0912d83b3f']\n",
      "=> C:.git\\objects\\b1\n",
      "📁  []\n",
      "🗒️ ['81672d0895263164816b5c6b6d6ec39ca8aa68']\n",
      "=> C:.git\\objects\\b8\n",
      "📁  []\n",
      "🗒️ ['eb2a1942e6d3872ff74ad9e8fdebf01c734873']\n",
      "=> C:.git\\objects\\cd\n",
      "📁  []\n",
      "🗒️ ['a1af4cc92fec92158ac3cda0fa1286dcf939d6', 'd0c1d4078208de7602661d98aa25fddde16fe2']\n",
      "=> C:.git\\objects\\d3\n",
      "📁  []\n",
      "🗒️ ['e46f27cbccd2f07f6b4876b14e96bd6e96a89f']\n",
      "=> C:.git\\objects\\dc\n",
      "📁  []\n",
      "🗒️ ['6e1595a864a298bfe71aeaa3e577ed883e8641']\n",
      "=> C:.git\\objects\\df\n",
      "📁  []\n",
      "🗒️ ['4c63e6ceba75a2fe8c680a07f05e68c77dbda0']\n",
      "=> C:.git\\objects\\e6\n",
      "📁  []\n",
      "🗒️ ['7d7fa645262bcfd65155369fa481d2428c3590']\n",
      "=> C:.git\\objects\\f0\n",
      "📁  []\n",
      "🗒️ ['831190b1f1a70d17485b8f1c019c7415253a43']\n",
      "=> C:.git\\objects\\f2\n",
      "📁  []\n",
      "🗒️ ['7c73c66ff9bdecd8e35527b56e6a2b3e414879']\n",
      "=> C:.git\\objects\\ff\n",
      "📁  []\n",
      "🗒️ ['42b9fc2e735b2f58f9efac6f60fd67fb78d0b8']\n",
      "=> C:.git\\objects\\info\n",
      "📁  []\n",
      "🗒️ []\n",
      "=> C:.git\\objects\\pack\n",
      "📁  []\n",
      "🗒️ []\n",
      "=> C:.git\\refs\n",
      "📁  ['heads', 'remotes', 'tags']\n",
      "🗒️ []\n",
      "=> C:.git\\refs\\heads\n",
      "📁  []\n",
      "🗒️ ['main']\n",
      "=> C:.git\\refs\\remotes\n",
      "📁  ['origin']\n",
      "🗒️ []\n",
      "=> C:.git\\refs\\remotes\\origin\n",
      "📁  []\n",
      "🗒️ ['main']\n",
      "=> C:.git\\refs\\tags\n",
      "📁  []\n",
      "🗒️ []\n",
      "=> C:Data structures\n",
      "📁  []\n",
      "🗒️ ['dictionary.ipynb', 'list.ipynb', 'sets.ipynb', 'strings.ipynb']\n",
      "Total files : 74\n"
     ]
    }
   ],
   "source": [
    "total_files = 0\n",
    "for path, folders, files in os.walk('C:'):\n",
    "    print('=>' , path)\n",
    "    print('📁 ', folders)\n",
    "    print('🗒️', files)\n",
    "    total_files += len(files)\n",
    "print('Total files :', total_files)    "
   ]
  },
  {
   "cell_type": "code",
   "execution_count": 89,
   "metadata": {},
   "outputs": [
    {
     "name": "stdout",
     "output_type": "stream",
     "text": [
      "Folder Exists\n"
     ]
    }
   ],
   "source": [
    "files = r'C:\\Users\\Rakhi\\Documents\\Sentiment Analysis'\n",
    "if os.path.exists(files):\n",
    "    print('Folder Exists')\n",
    "else:\n",
    "    print('Folder does not exist')"
   ]
  },
  {
   "cell_type": "code",
   "execution_count": 90,
   "metadata": {},
   "outputs": [
    {
     "name": "stdout",
     "output_type": "stream",
     "text": [
      "Folder exists\n",
      "Size in bytes :  4096 bytes\n",
      "Size in KB : 4.0 KB\n",
      "Size in MB : 0.00390625 MB\n",
      "Size in GB : 3.814697265625e-06 GB\n"
     ]
    }
   ],
   "source": [
    "files = r'C:\\Users\\Rakhi\\Documents\\Sentiment Analysis'\n",
    "if os.path.exists(files):\n",
    "    print('Folder exists')\n",
    "    size = os.path.getsize(files)\n",
    "    print('Size in bytes : ', size, 'bytes')\n",
    "    print('Size in KB :', size /1024, 'KB')\n",
    "    print('Size in MB :', size/1024/1024, 'MB')\n",
    "    print('Size in GB :', size/1024/1024/1024, 'GB')"
   ]
  }
 ],
 "metadata": {
  "kernelspec": {
   "display_name": "base",
   "language": "python",
   "name": "python3"
  },
  "language_info": {
   "codemirror_mode": {
    "name": "ipython",
    "version": 3
   },
   "file_extension": ".py",
   "mimetype": "text/x-python",
   "name": "python",
   "nbconvert_exporter": "python",
   "pygments_lexer": "ipython3",
   "version": "3.12.4"
  }
 },
 "nbformat": 4,
 "nbformat_minor": 2
}
