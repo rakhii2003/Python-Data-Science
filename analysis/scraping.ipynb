{
 "cells": [
  {
   "cell_type": "code",
   "execution_count": 3,
   "metadata": {},
   "outputs": [],
   "source": [
    "from dputils.scrape import Scraper , Tag\n",
    "from pprint import pp"
   ]
  },
  {
   "cell_type": "markdown",
   "metadata": {},
   "source": [
    "- Tag class helps to decide what to collect from the page \n",
    "- Scraper executes the scraping process"
   ]
  },
  {
   "cell_type": "code",
   "execution_count": 10,
   "metadata": {},
   "outputs": [],
   "source": [
    "url = \"https://www.flipkart.com/search?q=mobiles&otracker=search&otracker1=search&marketplace=FLIPKART&as-show=on&as=off\"\n"
   ]
  },
  {
   "cell_type": "code",
   "execution_count": 5,
   "metadata": {},
   "outputs": [
    {
     "data": {
      "text/plain": [
       "<bound method Scraper.get_repeating_date_from_page of <dputils.scrape.Scraper object at 0x000001EDEDA488F0>>"
      ]
     },
     "execution_count": 5,
     "metadata": {},
     "output_type": "execute_result"
    }
   ],
   "source": [
    "scraper = Scraper(url)\n",
    "scraper.get_repeating_date_from_page"
   ]
  },
  {
   "cell_type": "code",
   "execution_count": 6,
   "metadata": {},
   "outputs": [],
   "source": [
    "result = scraper.get_repeating_date_from_page(\n",
    "    target = Tag('div', cls='DOjaWF gdgoEp'),\n",
    "    items = Tag('div', cls='_75nlfW'),  \n",
    "    title = Tag('div', cls='KzDlHZ'),\n",
    "    price = Tag('div', cls='Nx9bqj _4b5DiR'),\n",
    ")"
   ]
  },
  {
   "cell_type": "code",
   "execution_count": 7,
   "metadata": {},
   "outputs": [
    {
     "data": {
      "text/plain": [
       "[{'title': 'OPPO K12x 5G with 45W SUPERVOOC Charger In-The-Box (Breeze Blue, 128 GB)',\n",
       "  'price': '₹12,999'},\n",
       " {'title': 'CMF by Nothing Phone 1 (Black, 128 GB)', 'price': '₹15,999'},\n",
       " {'title': 'Motorola G85 5G (Cobalt Blue, 128 GB)', 'price': '₹16,999'},\n",
       " {'title': 'Apple iPhone 15 (Black, 128 GB)', 'price': '₹57,999'},\n",
       " {'title': 'REDMI Note 13 5G (Arctic White, 128 GB)', 'price': '₹15,999'},\n",
       " {'title': 'REDMI Note 13 Pro 5G (Midnight Black, 128 GB)',\n",
       "  'price': '₹22,999'},\n",
       " {'title': 'SAMSUNG Galaxy A14 5G (Light Green, 128 GB)', 'price': '₹10,999'},\n",
       " {'title': 'Motorola G85 5G (Olive Green, 128 GB)', 'price': '₹16,999'},\n",
       " {'title': 'Motorola Edge 50 Fusion (Hot Pink, 256 GB)', 'price': '₹23,999'},\n",
       " {'title': 'Motorola g45 5G (Brilliant Blue, 128 GB)', 'price': '₹11,999'},\n",
       " {'title': 'REDMI Note 13 Pro+ 5G (Fusion Purple, 256 GB)',\n",
       "  'price': '₹27,999'},\n",
       " {'title': 'REDMI Note 13 Pro 5G (Coral Purple, 128 GB)', 'price': '₹22,999'},\n",
       " {'title': 'REDMI 13C (Stardust Black, 128 GB)', 'price': '₹7,299'},\n",
       " {'title': 'REDMI 12 (Pastel Blue, 128 GB)', 'price': '₹15,999'},\n",
       " {'title': 'Motorola Edge 50 Fusion (Marshmallow Blue, 128 GB)',\n",
       "  'price': '₹21,999'},\n",
       " {'title': 'Motorola g64 5G (Mint Green, 256 GB)', 'price': '₹14,999'},\n",
       " {'title': 'Xiaomi 14 CIVI (Cruise Blue, 512 GB)', 'price': '₹45,999'},\n",
       " {'title': 'REDMI Note 13 Pro 5G (Arctic White, 128 GB)', 'price': '₹22,999'},\n",
       " {'title': 'POCO M6 5G (Orion Blue, 64 GB)', 'price': '₹7,999'},\n",
       " {'title': 'Motorola g64 5G (Pearl Blue, 256 GB)', 'price': '₹14,999'},\n",
       " {'title': 'REDMI Note 13 5G (Stealth Black, 128 GB)', 'price': '₹15,999'},\n",
       " {'title': 'REDMI Note 13 Pro+ 5G (Fusion Black, 256 GB)', 'price': '₹27,999'},\n",
       " {'title': 'Apple iPhone 15 (Pink, 128 GB)', 'price': '₹57,999'},\n",
       " {'title': 'vivo T3 Lite 5G (Vibrant Green, 128 GB)', 'price': '₹10,499'}]"
      ]
     },
     "execution_count": 7,
     "metadata": {},
     "output_type": "execute_result"
    }
   ],
   "source": [
    "result"
   ]
  },
  {
   "cell_type": "markdown",
   "metadata": {},
   "source": [
    "### Homework"
   ]
  },
  {
   "cell_type": "markdown",
   "metadata": {},
   "source": [
    "- Laptop and bags data"
   ]
  },
  {
   "cell_type": "code",
   "execution_count": 8,
   "metadata": {},
   "outputs": [],
   "source": [
    "url = \"https://www.amazon.in/s?k=mobile&crid=5UI6CTC4ZWK5&sprefix=mobil%2Caps%2C287&ref=nb_sb_noss_2\""
   ]
  },
  {
   "cell_type": "code",
   "execution_count": 9,
   "metadata": {},
   "outputs": [
    {
     "data": {
      "text/plain": [
       "<bound method Scraper.get_repeating_date_from_page of <dputils.scrape.Scraper object at 0x000001EDECD00A40>>"
      ]
     },
     "execution_count": 9,
     "metadata": {},
     "output_type": "execute_result"
    }
   ],
   "source": [
    "scraper = Scraper(url)\n",
    "scraper.get_repeating_date_from_page"
   ]
  },
  {
   "cell_type": "code",
   "execution_count": 11,
   "metadata": {},
   "outputs": [],
   "source": [
    "result = scraper.get_repeating_date_from_page(\n",
    "    target = Tag('div', cls='sg-col-inner'),\n",
    "    items = Tag('div', cls='puisg-row'),  \n",
    "    title = Tag('div', cls='a-size-medium a-color-base a-text-normal'),\n",
    "    price = Tag('div', cls='a-price-whole'),\n",
    ")"
   ]
  },
  {
   "cell_type": "code",
   "execution_count": 12,
   "metadata": {},
   "outputs": [
    {
     "data": {
      "text/plain": [
       "[]"
      ]
     },
     "execution_count": 12,
     "metadata": {},
     "output_type": "execute_result"
    }
   ],
   "source": [
    "result"
   ]
  },
  {
   "cell_type": "code",
   "execution_count": null,
   "metadata": {},
   "outputs": [],
   "source": []
  }
 ],
 "metadata": {
  "kernelspec": {
   "display_name": "base",
   "language": "python",
   "name": "python3"
  },
  "language_info": {
   "codemirror_mode": {
    "name": "ipython",
    "version": 3
   },
   "file_extension": ".py",
   "mimetype": "text/x-python",
   "name": "python",
   "nbconvert_exporter": "python",
   "pygments_lexer": "ipython3",
   "version": "3.12.4"
  }
 },
 "nbformat": 4,
 "nbformat_minor": 2
}
