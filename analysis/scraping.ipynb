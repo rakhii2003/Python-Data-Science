{
 "cells": [
  {
   "cell_type": "code",
   "execution_count": 39,
   "metadata": {},
   "outputs": [],
   "source": [
    "from dputils.scrape import Scraper , Tag\n",
    "from pprint import pp"
   ]
  },
  {
   "cell_type": "markdown",
   "metadata": {},
   "source": [
    "- Tag class helps to decide what to collect from the page \n",
    "- Scraper executes the scraping process"
   ]
  },
  {
   "cell_type": "code",
   "execution_count": 40,
   "metadata": {},
   "outputs": [],
   "source": [
    "url = \"https://www.flipkart.com/search?q=mobiles&otracker=search&otracker1=search&marketplace=FLIPKART&as-show=on&as=off\"\n"
   ]
  },
  {
   "cell_type": "code",
   "execution_count": 41,
   "metadata": {},
   "outputs": [
    {
     "data": {
      "text/plain": [
       "<bound method Scraper.get_repeating_date_from_page of <dputils.scrape.Scraper object at 0x0000021639512C60>>"
      ]
     },
     "execution_count": 41,
     "metadata": {},
     "output_type": "execute_result"
    }
   ],
   "source": [
    "scraper = Scraper(url)\n",
    "scraper.get_repeating_date_from_page"
   ]
  },
  {
   "cell_type": "code",
   "execution_count": 42,
   "metadata": {},
   "outputs": [],
   "source": [
    "result = scraper.get_repeating_date_from_page(\n",
    "    target = Tag('div', cls='DOjaWF gdgoEp'),\n",
    "    items = Tag('div', cls='_75nlfW'),  \n",
    "    title = Tag('div', cls='KzDlHZ'),\n",
    "    price = Tag('div', cls='Nx9bqj _4b5DiR'),\n",
    ")"
   ]
  },
  {
   "cell_type": "code",
   "execution_count": 43,
   "metadata": {},
   "outputs": [
    {
     "data": {
      "text/plain": [
       "[{'title': 'OPPO K12x 5G with 45W SUPERVOOC Charger In-The-Box (Breeze Blue, 128 GB)',\n",
       "  'price': '₹12,999'},\n",
       " {'title': 'CMF by Nothing Phone 1 (Black, 128 GB)', 'price': '₹15,999'},\n",
       " {'title': 'Apple iPhone 15 (Blue, 128 GB)', 'price': '₹57,999'},\n",
       " {'title': 'vivo T3 Lite 5G (Vibrant Green, 128 GB)', 'price': '₹11,499'},\n",
       " {'title': 'vivo V30 Pro 5G (Classic Black, 256 GB)', 'price': '₹38,999'},\n",
       " {'title': 'vivo T3 Lite 5G (Vibrant Green, 128 GB)', 'price': '₹10,499'},\n",
       " {'title': 'vivo T3 Lite 5G (Majestic Black, 128 GB)', 'price': '₹10,499'},\n",
       " {'title': 'vivo T3 Lite 5G (Majestic Black, 128 GB)', 'price': '₹11,499'},\n",
       " {'title': 'REDMI 13C (Stardust Black, 128 GB)', 'price': '₹7,199'},\n",
       " {'title': 'SAMSUNG Galaxy A14 5G (Dark Red, 128 GB)', 'price': '₹10,999'},\n",
       " {'title': 'POCO M6 5G (Orion Blue, 64 GB)', 'price': '₹7,999'},\n",
       " {'title': 'Apple iPhone 15 (Black, 128 GB)', 'price': '₹57,999'},\n",
       " {'title': 'REDMI 13C (Starfrost White, 128 GB)', 'price': '₹7,199'},\n",
       " {'title': 'realme 12x 5G (Coral Red, 128 GB)', 'price': '₹13,499'},\n",
       " {'title': 'Motorola g64 5G (Red Berry, 256 GB)', 'price': '₹14,999'},\n",
       " {'title': 'Apple iPhone 15 (Pink, 128 GB)', 'price': '₹57,999'},\n",
       " {'title': 'SAMSUNG Galaxy A14 5G (Black, 128 GB)', 'price': '₹10,999'},\n",
       " {'title': 'SAMSUNG Galaxy A14 5G (Light Green, 128 GB)', 'price': '₹10,999'},\n",
       " {'title': 'vivo T3x 5G (Celestial Green, 128 GB)', 'price': '₹12,999'},\n",
       " {'title': 'vivo T3x 5G (Crimson Bliss, 128 GB)', 'price': '₹14,499'},\n",
       " {'title': 'vivo T3x 5G (Crimson Bliss, 128 GB)', 'price': '₹12,999'},\n",
       " {'title': 'vivo T3x 5G (Sapphire Blue, 128 GB)', 'price': '₹14,499'},\n",
       " {'title': 'vivo T3x 5G (Sapphire Blue, 128 GB)', 'price': '₹12,999'},\n",
       " {'title': 'vivo T3x 5G (Celestial Green, 128 GB)', 'price': '₹14,499'}]"
      ]
     },
     "execution_count": 43,
     "metadata": {},
     "output_type": "execute_result"
    }
   ],
   "source": [
    "result"
   ]
  },
  {
   "cell_type": "markdown",
   "metadata": {},
   "source": [
    "### Homework"
   ]
  },
  {
   "cell_type": "markdown",
   "metadata": {},
   "source": [
    "- Laptop and bags data"
   ]
  },
  {
   "cell_type": "code",
   "execution_count": 44,
   "metadata": {},
   "outputs": [],
   "source": [
    "url = \"\""
   ]
  },
  {
   "cell_type": "code",
   "execution_count": 45,
   "metadata": {},
   "outputs": [
    {
     "data": {
      "text/plain": [
       "<bound method Scraper.get_repeating_date_from_page of <dputils.scrape.Scraper object at 0x000002163A017FB0>>"
      ]
     },
     "execution_count": 45,
     "metadata": {},
     "output_type": "execute_result"
    }
   ],
   "source": [
    "scraper = Scraper(url)\n",
    "scraper.get_repeating_date_from_page"
   ]
  },
  {
   "cell_type": "code",
   "execution_count": 57,
   "metadata": {},
   "outputs": [],
   "source": [
    "result2 = scraper.get_repeating_date_from_page(\n",
    "    target = Tag('div', cls ='sg-col-inner'),\n",
    "    items = Tag('div', cls =''),  \n",
    "    title = Tag('div', cls ='a-size-large a-spacing-none'),\n",
    "    price = Tag('div', cls ='a-price-whole'),\n",
    ")"
   ]
  },
  {
   "cell_type": "code",
   "execution_count": 58,
   "metadata": {},
   "outputs": [
    {
     "data": {
      "text/plain": [
       "[]"
      ]
     },
     "execution_count": 58,
     "metadata": {},
     "output_type": "execute_result"
    }
   ],
   "source": [
    "result2"
   ]
  },
  {
   "cell_type": "code",
   "execution_count": null,
   "metadata": {},
   "outputs": [],
   "source": []
  }
 ],
 "metadata": {
  "kernelspec": {
   "display_name": "base",
   "language": "python",
   "name": "python3"
  },
  "language_info": {
   "codemirror_mode": {
    "name": "ipython",
    "version": 3
   },
   "file_extension": ".py",
   "mimetype": "text/x-python",
   "name": "python",
   "nbconvert_exporter": "python",
   "pygments_lexer": "ipython3",
   "version": "3.12.4"
  }
 },
 "nbformat": 4,
 "nbformat_minor": 2
}
