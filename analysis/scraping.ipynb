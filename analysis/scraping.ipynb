{
 "cells": [
  {
   "cell_type": "code",
   "execution_count": 3,
   "metadata": {},
   "outputs": [],
   "source": [
    "from dputils.scrape import Scraper , Tag\n",
    "from pprint import pp"
   ]
  },
  {
   "cell_type": "markdown",
   "metadata": {},
   "source": [
    "- Tag class helps to decide what to collect from the page \n",
    "- Scraper executes the scraping process"
   ]
  },
  {
   "cell_type": "code",
   "execution_count": 4,
   "metadata": {},
   "outputs": [],
   "source": [
    "url = \"https://www.flipkart.com/search?q=mobiles&otracker=search&otracker1=search&marketplace=FLIPKART&as-show=on&as=off\"\n"
   ]
  },
  {
   "cell_type": "code",
   "execution_count": 5,
   "metadata": {},
   "outputs": [
    {
     "data": {
      "text/plain": [
       "<bound method Scraper.get_repeating_date_from_page of <dputils.scrape.Scraper object at 0x00000223031D5400>>"
      ]
     },
     "execution_count": 5,
     "metadata": {},
     "output_type": "execute_result"
    }
   ],
   "source": [
    "scraper = Scraper(url)\n",
    "scraper.get_repeating_date_from_page"
   ]
  },
  {
   "cell_type": "code",
   "execution_count": 6,
   "metadata": {},
   "outputs": [],
   "source": [
    "result = scraper.get_repeating_date_from_page(\n",
    "    target = Tag('div', cls='DOjaWF gdgoEp'),\n",
    "    items = Tag('div', cls='_75nlfW'),  \n",
    "    title = Tag('div', cls='KzDlHZ'),\n",
    "    price = Tag('div', cls='Nx9bqj _4b5DiR'),\n",
    ")"
   ]
  },
  {
   "cell_type": "code",
   "execution_count": 7,
   "metadata": {},
   "outputs": [
    {
     "data": {
      "text/plain": [
       "[{'title': 'Apple iPhone 15 (Black, 128 GB)', 'price': '₹58,999'},\n",
       " {'title': 'Apple iPhone 15 (Pink, 128 GB)', 'price': '₹58,999'},\n",
       " {'title': 'Apple iPhone 15 (Green, 128 GB)', 'price': '₹58,999'},\n",
       " {'title': 'Apple iPhone 15 (Blue, 128 GB)', 'price': '₹58,999'},\n",
       " {'title': 'Motorola G85 5G (Olive Green, 128 GB)', 'price': '₹16,999'},\n",
       " {'title': 'Motorola Edge 50 Fusion (Forest Green, 256 GB)',\n",
       "  'price': '₹22,999'},\n",
       " {'title': 'Motorola Edge 50 Fusion (Marshmallow Blue, 128 GB)',\n",
       "  'price': '₹20,999'},\n",
       " {'title': 'Motorola g45 5G (Brilliant Blue, 128 GB)', 'price': '₹11,999'},\n",
       " {'title': 'Apple iPhone 15 Plus (Blue, 128 GB)', 'price': '₹67,999'},\n",
       " {'title': 'Apple iPhone 15 (Black, 256 GB)', 'price': '₹68,999'},\n",
       " {'title': 'Apple iPhone 15 Plus (Black, 128 GB)', 'price': '₹67,999'},\n",
       " {'title': 'Motorola G85 5G (Cobalt Blue, 256 GB)', 'price': '₹18,999'},\n",
       " {'title': 'Motorola Edge 50 Fusion (Marshmallow Blue, 256 GB)',\n",
       "  'price': '₹22,999'},\n",
       " {'title': 'Apple iPhone 15 Plus (Pink, 128 GB)', 'price': '₹67,999'},\n",
       " {'title': 'Motorola Edge 50 Pro 5G with 125W Charger (Luxe Lavender, 256 GB)',\n",
       "  'price': '₹29,999'},\n",
       " {'title': 'SAMSUNG Galaxy A14 5G (Light Green, 128 GB)', 'price': '₹20,999'},\n",
       " {'title': 'Apple iPhone 15 (Pink, 256 GB)', 'price': '₹68,999'},\n",
       " {'title': 'Motorola G85 5G (Cobalt Blue, 128 GB)', 'price': '₹16,999'},\n",
       " {'title': 'realme 12x 5G (Twilight Purple, 128 GB)', 'price': '₹12,499'},\n",
       " {'title': 'realme 12x 5G (Twilight Purple, 128 GB)', 'price': '₹13,499'},\n",
       " {'title': 'Motorola G85 5G (Urban Grey, 128 GB)', 'price': '₹16,999'},\n",
       " {'title': 'realme 12x 5G (Woodland Green, 128 GB)', 'price': '₹12,499'},\n",
       " {'title': 'Motorola Edge 50 Fusion (Hot Pink, 128 GB)', 'price': '₹20,999'},\n",
       " {'title': 'Motorola g64 5G (Pearl Blue, 256 GB)', 'price': '₹14,999'}]"
      ]
     },
     "execution_count": 7,
     "metadata": {},
     "output_type": "execute_result"
    }
   ],
   "source": [
    "result"
   ]
  },
  {
   "cell_type": "markdown",
   "metadata": {},
   "source": [
    "### Homework"
   ]
  },
  {
   "cell_type": "markdown",
   "metadata": {},
   "source": [
    "- Laptop and bags data"
   ]
  },
  {
   "cell_type": "markdown",
   "metadata": {},
   "source": []
  }
 ],
 "metadata": {
  "kernelspec": {
   "display_name": "base",
   "language": "python",
   "name": "python3"
  },
  "language_info": {
   "codemirror_mode": {
    "name": "ipython",
    "version": 3
   },
   "file_extension": ".py",
   "mimetype": "text/x-python",
   "name": "python",
   "nbconvert_exporter": "python",
   "pygments_lexer": "ipython3",
   "version": "3.12.4"
  }
 },
 "nbformat": 4,
 "nbformat_minor": 2
}
