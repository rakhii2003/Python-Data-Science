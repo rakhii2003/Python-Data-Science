{
 "cells": [
  {
   "cell_type": "code",
   "execution_count": 2,
   "metadata": {},
   "outputs": [
    {
     "name": "stdout",
     "output_type": "stream",
     "text": [
      "A\n",
      "B\n"
     ]
    }
   ],
   "source": [
    "marks = 80\n",
    "if marks >= 90:\n",
    "    print('A+')\n",
    "if marks >=70:\n",
    "    print('A')\n",
    "if marks >=60:\n",
    "    print('B')\n",
    "if marks < 60:\n",
    "    print('Poor Performance')"
   ]
  },
  {
   "cell_type": "code",
   "execution_count": 3,
   "metadata": {},
   "outputs": [
    {
     "name": "stdout",
     "output_type": "stream",
     "text": [
      "A\n"
     ]
    }
   ],
   "source": [
    "marks = 80\n",
    "if marks >= 90:\n",
    "    print('A+')\n",
    "elif marks >=70:\n",
    "    print('A')\n",
    "elif marks >=60:\n",
    "    print('B')\n",
    "elif marks < 60:\n",
    "    print('Poor Performance')\n",
    "else :\n",
    "    print('Invalid marks')"
   ]
  },
  {
   "cell_type": "code",
   "execution_count": 7,
   "metadata": {},
   "outputs": [
    {
     "name": "stdout",
     "output_type": "stream",
     "text": [
      "person is eligible to vote\n"
     ]
    }
   ],
   "source": [
    "age = int(input (\"Enter the age\"))\n",
    "if age >=18 :\n",
    "    print(\"person is eligible to vote\")\n",
    "else:\n",
    "    print(\"person is not eligible to vote\")"
   ]
  },
  {
   "cell_type": "code",
   "execution_count": 1,
   "metadata": {},
   "outputs": [
    {
     "name": "stdout",
     "output_type": "stream",
     "text": [
      "IT IS A VOWEL\n"
     ]
    }
   ],
   "source": [
    "# enter a character from user check whether it is a vowel or not \n",
    "ch = input(\"Enter a character\")\n",
    "vowel = ['a','e','i','o','u']\n",
    "if ch in vowel:\n",
    "    print(\"IT IS A VOWEL\")\n",
    "else:\n",
    "    print(\"IT IS NOT A VOWEL\")"
   ]
  },
  {
   "cell_type": "code",
   "execution_count": 12,
   "metadata": {},
   "outputs": [
    {
     "name": "stdout",
     "output_type": "stream",
     "text": [
      "It is a vowel\n"
     ]
    }
   ],
   "source": [
    "ch = input(\"Enter a character\")\n",
    "if ch == 'a' or ch == 'e' or ch == 'i' or ch =='o' or ch == 'u':\n",
    "    print(\"It is a vowel\")\n",
    "else :\n",
    "    print(\"It is not a vowel\")"
   ]
  },
  {
   "cell_type": "code",
   "execution_count": 15,
   "metadata": {},
   "outputs": [
    {
     "name": "stdout",
     "output_type": "stream",
     "text": [
      "even number\n"
     ]
    }
   ],
   "source": [
    "num = int(input(\"Enter a number\"))\n",
    "if (num % 2 == 0):\n",
    "    print(\"even number\")\n",
    "else:\n",
    "    print(\"odd number\")"
   ]
  },
  {
   "cell_type": "code",
   "execution_count": 27,
   "metadata": {},
   "outputs": [
    {
     "name": "stdout",
     "output_type": "stream",
     "text": [
      "isosceles triangle\n"
     ]
    }
   ],
   "source": [
    "a = int(input(\"Enter first side of triangle\"))\n",
    "b = int(input(\"Enter second side of triangle\"))\n",
    "c = int(input(\"Enter third side of triangle\"))\n",
    "if (a == b == c):\n",
    "    print(\"Equilateral triangle\")\n",
    "elif(a == b or b == c or a == c):\n",
    "    print(\"isosceles triangle\")\n",
    "else:\n",
    "    print(\"scalene triangle\")\n"
   ]
  },
  {
   "cell_type": "code",
   "execution_count": 31,
   "metadata": {},
   "outputs": [
    {
     "name": "stdout",
     "output_type": "stream",
     "text": [
      "Invalid username😟\n"
     ]
    }
   ],
   "source": [
    "username = input(\"Enter the username \")\n",
    "email = input(\"Enter the email\")\n",
    "password = input(\"Enter the passowrd\")\n",
    "cpasswd = input(\"Enter the confirm password\")\n",
    "if len(username)>5 and len(username)<15:\n",
    "    if '@' in email:\n",
    "        if len(password)>6 and len(password)<15:\n",
    "            if password == cpasswd:\n",
    "                print(\"Regirstration successful😁\")\n",
    "            else:\n",
    "                print(\"Passoword and confirm password must be same\")\n",
    "        else:\n",
    "            print(\"Password is incoorect\")\n",
    "    else:\n",
    "        print(\"Invalid email😒\") \n",
    "else:\n",
    "    print(\"Invalid username😟\")     "
   ]
  },
  {
   "cell_type": "code",
   "execution_count": null,
   "metadata": {},
   "outputs": [],
   "source": []
  }
 ],
 "metadata": {
  "kernelspec": {
   "display_name": "base",
   "language": "python",
   "name": "python3"
  },
  "language_info": {
   "codemirror_mode": {
    "name": "ipython",
    "version": 3
   },
   "file_extension": ".py",
   "mimetype": "text/x-python",
   "name": "python",
   "nbconvert_exporter": "python",
   "pygments_lexer": "ipython3",
   "version": "3.12.4"
  }
 },
 "nbformat": 4,
 "nbformat_minor": 2
}
